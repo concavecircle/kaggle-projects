{
 "metadata": {
  "name": "",
  "signature": "sha256:4e475244b5a16c3080ad4ff79f763f160781fa591b6c8cbd03752b24f0b0e357"
 },
 "nbformat": 3,
 "nbformat_minor": 0,
 "worksheets": [
  {
   "cells": [
    {
     "cell_type": "code",
     "collapsed": false,
     "input": [
      "import pandas as pd\n",
      "import math\n",
      "import numpy as np\n",
      "from sklearn import svm"
     ],
     "language": "python",
     "metadata": {},
     "outputs": [],
     "prompt_number": 4
    },
    {
     "cell_type": "code",
     "collapsed": false,
     "input": [
      "trainF=pd.read_csv('forest cover/train.csv').set_index('Id')\n",
      "def prepare(df):\n",
      "    df['aspect_x']=df['Aspect'].apply(math.radians).apply(math.cos)\n",
      "    df['aspect_y']=df['Aspect'].apply(math.radians).apply(math.sin)\n",
      "    df['HDTH_SR']=df['Horizontal_Distance_To_Hydrology'].apply(math.sqrt)\n",
      "    df['Horizontal_Distance_To_Roadways']=df['Horizontal_Distance_To_Roadways'].apply(math.sqrt)\n",
      "    df['Horizontal_Distance_To_Fire_Points']=(df['Horizontal_Distance_To_Fire_Points']+1).apply(math.sqrt)\n",
      "    df['VDTH_SR']=df['Vertical_Distance_To_Hydrology'].apply(\n",
      "                                            math.fabs).apply(math.sqrt)*df['Vertical_Distance_To_Hydrology'].apply(\n",
      "                                                lambda x:math.copysign(1,x))\n",
      "    df['Slope']=df['Slope'].apply(math.radians).apply(math.sin)\n",
      "    df['Hillshade_9am']=(255-df['Hillshade_9am']).apply(math.sqrt)\n",
      "    df['Hillshade_3pm']=(255-df['Hillshade_3pm']).apply(math.sqrt)\n",
      "    df['VDH_negative']=df['VDTH_SR'].apply(keepnegative)\n",
      "prepare(trainF)\n",
      "tF=trainF.copy()"
     ],
     "language": "python",
     "metadata": {},
     "outputs": [],
     "prompt_number": 68
    },
    {
     "cell_type": "code",
     "collapsed": false,
     "input": [
      "def keepnegative(x):\n",
      "    if x>0:\n",
      "        return 0\n",
      "    else:\n",
      "        return x\n",
      "def count(a):\n",
      "    c=0\n",
      "    for i in a:\n",
      "        if i==0:\n",
      "            c+=1\n",
      "    return c"
     ],
     "language": "python",
     "metadata": {},
     "outputs": [],
     "prompt_number": 34
    },
    {
     "cell_type": "code",
     "collapsed": false,
     "input": [
      "trainF=pd.read_csv('forest cover/train.csv').set_index('Id')\n",
      "\n",
      "a=1.0\n",
      "b=1.0\n",
      "trainF['Aspect'] /= 100\n",
      "trainF['Elevation']/= 400\n",
      "trainF['Horizontal_Distance_To_Hydrology']=trainF['Horizontal_Distance_To_Hydrology'].apply(math.sqrt)*a/7\n",
      "trainF['Horizontal_Distance_To_Roadways']=trainF['Horizontal_Distance_To_Roadways'].apply(math.sqrt)*a/12\n",
      "trainF['Horizontal_Distance_To_Fire_Points']=(trainF['Horizontal_Distance_To_Fire_Points']+1).apply(math.sqrt)*a/12\n",
      "#trainF['Vertical_Distance_To_Hydrology']=trainF['Vertical_Distance_To_Hydrology'].apply(\n",
      "#                                            math.fabs).apply(math.sqrt)*trainF['Vertical_Distance_To_Hydrology'].apply(\n",
      "#                                                lambda x:math.copysign(1,x))*a/4\n",
      "trainF['Vertical_Distance_To_Hydrology']=trainF['Vertical_Distance_To_Hydrology'].apply(lambda x: if )\n",
      "trainF['Slope']=trainF['Slope'].apply(math.radians).apply(math.sin)*5\n",
      "trainF['Hillshade_9am']=trainF['Hillshade_9am']*a/64\n",
      "trainF['Hillshade_Noon']=trainF['Hillshade_Noon']*a/64\n",
      "trainF['Hillshade_3pm']=trainF['Hillshade_3pm']*a/64\n",
      "trainF['Soil_Type5']=trainF['Soil_Type5']*1.5*b\n",
      "trainF['Soil_Type8']=trainF['Soil_Type8']*2.5*b\n",
      "trainF['Soil_Type9']=trainF['Soil_Type9']*2.5*b\n",
      "trainF['Soil_Type12']=trainF['Soil_Type12']*1.3*b\n",
      "trainF['Soil_Type14']=trainF['Soil_Type14']*1.5*b\n",
      "trainF['Soil_Type16']=trainF['Soil_Type16']*1.5*b\n",
      "trainF['Soil_Type18']=trainF['Soil_Type18']*1.8*b\n",
      "trainF['Soil_Type19']=trainF['Soil_Type19']*1.8*b\n",
      "trainF['Soil_Type20']=trainF['Soil_Type20']*1.5*b\n",
      "trainF['Soil_Type21']=trainF['Soil_Type21']*2*b\n",
      "trainF['Soil_Type25']=trainF['Soil_Type25']*2.5*b\n",
      "trainF['Soil_Type26']=trainF['Soil_Type26']*1.8*b\n",
      "trainF['Soil_Type27']=trainF['Soil_Type27']*2*b\n",
      "trainF['Soil_Type28']=trainF['Soil_Type28']*2.5*b\n",
      "trainF['Soil_Type34']=trainF['Soil_Type34']*1.8*b\n",
      "trainF['Soil_Type35']=trainF['Soil_Type35']*1.5*b\n",
      "trainF['Soil_Type36']=trainF['Soil_Type36']*2.5*b\n",
      "trainF['Soil_Type37']=trainF['Soil_Type37']*1.8*b"
     ],
     "language": "python",
     "metadata": {},
     "outputs": [],
     "prompt_number": 6
    },
    {
     "cell_type": "code",
     "collapsed": false,
     "input": [
      "cvariables=['Aspect','Elevation','Horizontal_Distance_To_Hydrology','Horizontal_Distance_To_Roadways',\n",
      "        'Horizontal_Distance_To_Fire_Points','Vertical_Distance_To_Hydrology','Slope','Hillshade_9am',\n",
      "        'Hillshade_Noon','Hillshade_3pm','VDH_negative','VDTH_SR','HDTH_SR']\n",
      "wildvars=['Wilderness_Area1','Wilderness_Area2','Wilderness_Area3','Wilderness_Area4','aspect_x','aspect_y']\n",
      "def scale(df,trF):\n",
      "    for c in tF.drop(cvariables+['Cover_Type'],1).columns.tolist():\n",
      "        if df[c].mean()>0:   \n",
      "            df[c] *= math.sqrt(-math.log(trF[c].mean()))/2\n",
      "            if c not in wildvars:\n",
      "                df[c]/=1.25\n",
      "    for c in cvariables:\n",
      "        df[c] /= (trF[c].std())\n"
     ],
     "language": "python",
     "metadata": {},
     "outputs": [],
     "prompt_number": 71
    },
    {
     "cell_type": "code",
     "collapsed": false,
     "input": [
      "scale(tF,trainF)"
     ],
     "language": "python",
     "metadata": {},
     "outputs": [],
     "prompt_number": 72
    },
    {
     "cell_type": "code",
     "collapsed": false,
     "input": [
      "y= tF['Cover_Type'].values\n",
      "x= tF.drop('Cover_Type',1).values"
     ],
     "language": "python",
     "metadata": {},
     "outputs": [],
     "prompt_number": 73
    },
    {
     "cell_type": "code",
     "collapsed": false,
     "input": [
      "clf=svm.SVC(C=2.7,gamma=1)\n",
      "clf.fit(x,y)"
     ],
     "language": "python",
     "metadata": {},
     "outputs": [
      {
       "metadata": {},
       "output_type": "pyout",
       "prompt_number": 74,
       "text": [
        "SVC(C=2.7, cache_size=200, class_weight=None, coef0=0.0, degree=3, gamma=1,\n",
        "  kernel='rbf', max_iter=-1, probability=False, random_state=None,\n",
        "  shrinking=True, tol=0.001, verbose=False)"
       ]
      }
     ],
     "prompt_number": 74
    },
    {
     "cell_type": "code",
     "collapsed": false,
     "input": [
      "test=clf.predict(x[:2000])\n",
      "array=test[:2000]-y[:2000]\n",
      "count(array)"
     ],
     "language": "python",
     "metadata": {},
     "outputs": [
      {
       "metadata": {},
       "output_type": "pyout",
       "prompt_number": 24,
       "text": [
        "1972"
       ]
      }
     ],
     "prompt_number": 24
    },
    {
     "cell_type": "code",
     "collapsed": false,
     "input": [
      "testF=pd.read_csv('forest cover/test.csv').set_index('Id')\n",
      "prepare(testF)\n",
      "scale(testF,trainF)\n",
      "submission=clf.predict(testF.values)"
     ],
     "language": "python",
     "metadata": {},
     "outputs": [
      {
       "ename": "KeyboardInterrupt",
       "evalue": "",
       "output_type": "pyerr",
       "traceback": [
        "\u001b[1;31m---------------------------------------------------------------------------\u001b[0m\n\u001b[1;31mKeyboardInterrupt\u001b[0m                         Traceback (most recent call last)",
        "\u001b[1;32m<ipython-input-67-4529bb67526e>\u001b[0m in \u001b[0;36m<module>\u001b[1;34m()\u001b[0m\n\u001b[0;32m     13\u001b[0m \u001b[1;32mfor\u001b[0m \u001b[0mc\u001b[0m \u001b[1;32min\u001b[0m \u001b[0mtestF\u001b[0m\u001b[1;33m.\u001b[0m\u001b[0mdrop\u001b[0m\u001b[1;33m(\u001b[0m\u001b[0mcvariables\u001b[0m\u001b[1;33m,\u001b[0m\u001b[1;36m1\u001b[0m\u001b[1;33m)\u001b[0m\u001b[1;33m.\u001b[0m\u001b[0mcolumns\u001b[0m\u001b[1;33m.\u001b[0m\u001b[0mtolist\u001b[0m\u001b[1;33m(\u001b[0m\u001b[1;33m)\u001b[0m\u001b[1;33m:\u001b[0m\u001b[1;33m\u001b[0m\u001b[0m\n\u001b[0;32m     14\u001b[0m     \u001b[1;32mif\u001b[0m \u001b[0mtestF\u001b[0m\u001b[1;33m[\u001b[0m\u001b[0mc\u001b[0m\u001b[1;33m]\u001b[0m\u001b[1;33m.\u001b[0m\u001b[0mmean\u001b[0m\u001b[1;33m(\u001b[0m\u001b[1;33m)\u001b[0m\u001b[1;33m>\u001b[0m\u001b[1;36m0\u001b[0m\u001b[1;33m:\u001b[0m\u001b[1;33m\u001b[0m\u001b[0m\n\u001b[1;32m---> 15\u001b[1;33m         \u001b[0mtestF\u001b[0m\u001b[1;33m[\u001b[0m\u001b[0mc\u001b[0m\u001b[1;33m]\u001b[0m\u001b[1;33m*=\u001b[0m\u001b[0mmath\u001b[0m\u001b[1;33m.\u001b[0m\u001b[0msqrt\u001b[0m\u001b[1;33m(\u001b[0m\u001b[1;33m-\u001b[0m\u001b[0mmath\u001b[0m\u001b[1;33m.\u001b[0m\u001b[0mlog\u001b[0m\u001b[1;33m(\u001b[0m\u001b[0mtestF\u001b[0m\u001b[1;33m[\u001b[0m\u001b[0mc\u001b[0m\u001b[1;33m]\u001b[0m\u001b[1;33m.\u001b[0m\u001b[0mmean\u001b[0m\u001b[1;33m(\u001b[0m\u001b[1;33m)\u001b[0m\u001b[1;33m)\u001b[0m\u001b[1;33m)\u001b[0m\u001b[1;33m/\u001b[0m\u001b[1;36m1.5\u001b[0m\u001b[1;33m\u001b[0m\u001b[0m\n\u001b[0m\u001b[0;32m     16\u001b[0m         \u001b[1;32mif\u001b[0m \u001b[0mc\u001b[0m \u001b[1;32mnot\u001b[0m \u001b[1;32min\u001b[0m \u001b[0mwildvars\u001b[0m\u001b[1;33m:\u001b[0m\u001b[1;33m\u001b[0m\u001b[0m\n\u001b[0;32m     17\u001b[0m             \u001b[0mtestF\u001b[0m\u001b[1;33m[\u001b[0m\u001b[0mc\u001b[0m\u001b[1;33m]\u001b[0m\u001b[1;33m/=\u001b[0m\u001b[1;36m1.5\u001b[0m\u001b[1;33m\u001b[0m\u001b[0m\n",
        "\u001b[1;32mC:\\Anaconda3\\lib\\site-packages\\pandas\\core\\frame.py\u001b[0m in \u001b[0;36m__setitem__\u001b[1;34m(self, key, value)\u001b[0m\n\u001b[0;32m   2005\u001b[0m         \u001b[1;32melse\u001b[0m\u001b[1;33m:\u001b[0m\u001b[1;33m\u001b[0m\u001b[0m\n\u001b[0;32m   2006\u001b[0m             \u001b[1;31m# set column\u001b[0m\u001b[1;33m\u001b[0m\u001b[1;33m\u001b[0m\u001b[0m\n\u001b[1;32m-> 2007\u001b[1;33m             \u001b[0mself\u001b[0m\u001b[1;33m.\u001b[0m\u001b[0m_set_item\u001b[0m\u001b[1;33m(\u001b[0m\u001b[0mkey\u001b[0m\u001b[1;33m,\u001b[0m \u001b[0mvalue\u001b[0m\u001b[1;33m)\u001b[0m\u001b[1;33m\u001b[0m\u001b[0m\n\u001b[0m\u001b[0;32m   2008\u001b[0m \u001b[1;33m\u001b[0m\u001b[0m\n\u001b[0;32m   2009\u001b[0m     \u001b[1;32mdef\u001b[0m \u001b[0m_setitem_slice\u001b[0m\u001b[1;33m(\u001b[0m\u001b[0mself\u001b[0m\u001b[1;33m,\u001b[0m \u001b[0mkey\u001b[0m\u001b[1;33m,\u001b[0m \u001b[0mvalue\u001b[0m\u001b[1;33m)\u001b[0m\u001b[1;33m:\u001b[0m\u001b[1;33m\u001b[0m\u001b[0m\n",
        "\u001b[1;32mC:\\Anaconda3\\lib\\site-packages\\pandas\\core\\frame.py\u001b[0m in \u001b[0;36m_set_item\u001b[1;34m(self, key, value)\u001b[0m\n\u001b[0;32m   2084\u001b[0m         \u001b[0mself\u001b[0m\u001b[1;33m.\u001b[0m\u001b[0m_ensure_valid_index\u001b[0m\u001b[1;33m(\u001b[0m\u001b[0mvalue\u001b[0m\u001b[1;33m)\u001b[0m\u001b[1;33m\u001b[0m\u001b[0m\n\u001b[0;32m   2085\u001b[0m         \u001b[0mvalue\u001b[0m \u001b[1;33m=\u001b[0m \u001b[0mself\u001b[0m\u001b[1;33m.\u001b[0m\u001b[0m_sanitize_column\u001b[0m\u001b[1;33m(\u001b[0m\u001b[0mkey\u001b[0m\u001b[1;33m,\u001b[0m \u001b[0mvalue\u001b[0m\u001b[1;33m)\u001b[0m\u001b[1;33m\u001b[0m\u001b[0m\n\u001b[1;32m-> 2086\u001b[1;33m         \u001b[0mNDFrame\u001b[0m\u001b[1;33m.\u001b[0m\u001b[0m_set_item\u001b[0m\u001b[1;33m(\u001b[0m\u001b[0mself\u001b[0m\u001b[1;33m,\u001b[0m \u001b[0mkey\u001b[0m\u001b[1;33m,\u001b[0m \u001b[0mvalue\u001b[0m\u001b[1;33m)\u001b[0m\u001b[1;33m\u001b[0m\u001b[0m\n\u001b[0m\u001b[0;32m   2087\u001b[0m \u001b[1;33m\u001b[0m\u001b[0m\n\u001b[0;32m   2088\u001b[0m         \u001b[1;31m# check if we are modifying a copy\u001b[0m\u001b[1;33m\u001b[0m\u001b[1;33m\u001b[0m\u001b[0m\n",
        "\u001b[1;32mC:\\Anaconda3\\lib\\site-packages\\pandas\\core\\generic.py\u001b[0m in \u001b[0;36m_set_item\u001b[1;34m(self, key, value)\u001b[0m\n\u001b[0;32m   1137\u001b[0m \u001b[1;33m\u001b[0m\u001b[0m\n\u001b[0;32m   1138\u001b[0m     \u001b[1;32mdef\u001b[0m \u001b[0m_set_item\u001b[0m\u001b[1;33m(\u001b[0m\u001b[0mself\u001b[0m\u001b[1;33m,\u001b[0m \u001b[0mkey\u001b[0m\u001b[1;33m,\u001b[0m \u001b[0mvalue\u001b[0m\u001b[1;33m)\u001b[0m\u001b[1;33m:\u001b[0m\u001b[1;33m\u001b[0m\u001b[0m\n\u001b[1;32m-> 1139\u001b[1;33m         \u001b[0mself\u001b[0m\u001b[1;33m.\u001b[0m\u001b[0m_data\u001b[0m\u001b[1;33m.\u001b[0m\u001b[0mset\u001b[0m\u001b[1;33m(\u001b[0m\u001b[0mkey\u001b[0m\u001b[1;33m,\u001b[0m \u001b[0mvalue\u001b[0m\u001b[1;33m)\u001b[0m\u001b[1;33m\u001b[0m\u001b[0m\n\u001b[0m\u001b[0;32m   1140\u001b[0m         \u001b[0mself\u001b[0m\u001b[1;33m.\u001b[0m\u001b[0m_clear_item_cache\u001b[0m\u001b[1;33m(\u001b[0m\u001b[1;33m)\u001b[0m\u001b[1;33m\u001b[0m\u001b[0m\n\u001b[0;32m   1141\u001b[0m \u001b[1;33m\u001b[0m\u001b[0m\n",
        "\u001b[1;32mC:\\Anaconda3\\lib\\site-packages\\pandas\\core\\internals.py\u001b[0m in \u001b[0;36mset\u001b[1;34m(self, item, value, check)\u001b[0m\n\u001b[0;32m   2712\u001b[0m                 \u001b[1;32melse\u001b[0m\u001b[1;33m:\u001b[0m\u001b[1;33m\u001b[0m\u001b[0m\n\u001b[0;32m   2713\u001b[0m                     \u001b[0mself\u001b[0m\u001b[1;33m.\u001b[0m\u001b[0m_blklocs\u001b[0m\u001b[1;33m[\u001b[0m\u001b[0mblk\u001b[0m\u001b[1;33m.\u001b[0m\u001b[0mmgr_locs\u001b[0m\u001b[1;33m.\u001b[0m\u001b[0mindexer\u001b[0m\u001b[1;33m]\u001b[0m \u001b[1;33m=\u001b[0m \u001b[1;33m-\u001b[0m\u001b[1;36m1\u001b[0m\u001b[1;33m\u001b[0m\u001b[0m\n\u001b[1;32m-> 2714\u001b[1;33m                     \u001b[0mblk\u001b[0m\u001b[1;33m.\u001b[0m\u001b[0mdelete\u001b[0m\u001b[1;33m(\u001b[0m\u001b[0mblk_locs\u001b[0m\u001b[1;33m)\u001b[0m\u001b[1;33m\u001b[0m\u001b[0m\n\u001b[0m\u001b[0;32m   2715\u001b[0m                     \u001b[0mself\u001b[0m\u001b[1;33m.\u001b[0m\u001b[0m_blklocs\u001b[0m\u001b[1;33m[\u001b[0m\u001b[0mblk\u001b[0m\u001b[1;33m.\u001b[0m\u001b[0mmgr_locs\u001b[0m\u001b[1;33m.\u001b[0m\u001b[0mindexer\u001b[0m\u001b[1;33m]\u001b[0m \u001b[1;33m=\u001b[0m \u001b[0mnp\u001b[0m\u001b[1;33m.\u001b[0m\u001b[0marange\u001b[0m\u001b[1;33m(\u001b[0m\u001b[0mlen\u001b[0m\u001b[1;33m(\u001b[0m\u001b[0mblk\u001b[0m\u001b[1;33m)\u001b[0m\u001b[1;33m)\u001b[0m\u001b[1;33m\u001b[0m\u001b[0m\n\u001b[0;32m   2716\u001b[0m \u001b[1;33m\u001b[0m\u001b[0m\n",
        "\u001b[1;32mC:\\Anaconda3\\lib\\site-packages\\pandas\\core\\internals.py\u001b[0m in \u001b[0;36mdelete\u001b[1;34m(self, loc)\u001b[0m\n\u001b[0;32m    223\u001b[0m         \u001b[0mDelete\u001b[0m \u001b[0mgiven\u001b[0m \u001b[0mloc\u001b[0m\u001b[1;33m(\u001b[0m\u001b[1;33m-\u001b[0m\u001b[0ms\u001b[0m\u001b[1;33m)\u001b[0m \u001b[1;32mfrom\u001b[0m \u001b[0mblock\u001b[0m \u001b[1;32min\u001b[0m\u001b[1;33m-\u001b[0m\u001b[0mplace\u001b[0m\u001b[1;33m.\u001b[0m\u001b[1;33m\u001b[0m\u001b[0m\n\u001b[0;32m    224\u001b[0m         \"\"\"\n\u001b[1;32m--> 225\u001b[1;33m         \u001b[0mself\u001b[0m\u001b[1;33m.\u001b[0m\u001b[0mvalues\u001b[0m \u001b[1;33m=\u001b[0m \u001b[0mnp\u001b[0m\u001b[1;33m.\u001b[0m\u001b[0mdelete\u001b[0m\u001b[1;33m(\u001b[0m\u001b[0mself\u001b[0m\u001b[1;33m.\u001b[0m\u001b[0mvalues\u001b[0m\u001b[1;33m,\u001b[0m \u001b[0mloc\u001b[0m\u001b[1;33m,\u001b[0m \u001b[1;36m0\u001b[0m\u001b[1;33m)\u001b[0m\u001b[1;33m\u001b[0m\u001b[0m\n\u001b[0m\u001b[0;32m    226\u001b[0m         \u001b[0mself\u001b[0m\u001b[1;33m.\u001b[0m\u001b[0mmgr_locs\u001b[0m \u001b[1;33m=\u001b[0m \u001b[0mself\u001b[0m\u001b[1;33m.\u001b[0m\u001b[0mmgr_locs\u001b[0m\u001b[1;33m.\u001b[0m\u001b[0mdelete\u001b[0m\u001b[1;33m(\u001b[0m\u001b[0mloc\u001b[0m\u001b[1;33m)\u001b[0m\u001b[1;33m\u001b[0m\u001b[0m\n\u001b[0;32m    227\u001b[0m \u001b[1;33m\u001b[0m\u001b[0m\n",
        "\u001b[1;32mC:\\Anaconda3\\lib\\site-packages\\numpy\\lib\\function_base.py\u001b[0m in \u001b[0;36mdelete\u001b[1;34m(arr, obj, axis)\u001b[0m\n\u001b[0;32m   3603\u001b[0m         \u001b[0mkeep\u001b[0m\u001b[1;33m[\u001b[0m\u001b[0mobj\u001b[0m\u001b[1;33m,\u001b[0m \u001b[1;33m]\u001b[0m \u001b[1;33m=\u001b[0m \u001b[1;32mFalse\u001b[0m\u001b[1;33m\u001b[0m\u001b[0m\n\u001b[0;32m   3604\u001b[0m         \u001b[0mslobj\u001b[0m\u001b[1;33m[\u001b[0m\u001b[0maxis\u001b[0m\u001b[1;33m]\u001b[0m \u001b[1;33m=\u001b[0m \u001b[0mkeep\u001b[0m\u001b[1;33m\u001b[0m\u001b[0m\n\u001b[1;32m-> 3605\u001b[1;33m         \u001b[0mnew\u001b[0m \u001b[1;33m=\u001b[0m \u001b[0marr\u001b[0m\u001b[1;33m[\u001b[0m\u001b[0mslobj\u001b[0m\u001b[1;33m]\u001b[0m\u001b[1;33m\u001b[0m\u001b[0m\n\u001b[0m\u001b[0;32m   3606\u001b[0m \u001b[1;33m\u001b[0m\u001b[0m\n\u001b[0;32m   3607\u001b[0m     \u001b[1;32mif\u001b[0m \u001b[0mwrap\u001b[0m\u001b[1;33m:\u001b[0m\u001b[1;33m\u001b[0m\u001b[0m\n",
        "\u001b[1;31mKeyboardInterrupt\u001b[0m: "
       ]
      }
     ],
     "prompt_number": 67
    },
    {
     "cell_type": "code",
     "collapsed": false,
     "input": [
      "pd.DataFrame(submission).to_csv('forest cover/submission16.csv')"
     ],
     "language": "python",
     "metadata": {},
     "outputs": [],
     "prompt_number": 62
    },
    {
     "cell_type": "code",
     "collapsed": false,
     "input": [],
     "language": "python",
     "metadata": {},
     "outputs": [],
     "prompt_number": 33
    },
    {
     "cell_type": "code",
     "collapsed": false,
     "input": [
      "clf=svm.SVC(C=2,gamma=1)\n",
      "clf.fit(x,y)\n",
      "\n",
      "a=1.0\n",
      "b=1.0\n",
      "testF=pd.read_csv('forest cover/test.csv').set_index('Id')\n",
      "testF['Aspect'] /= 100\n",
      "testF['Elevation']/= 400\n",
      "testF['Horizontal_Distance_To_Hydrology']=testF['Horizontal_Distance_To_Hydrology'].apply(math.sqrt)*a/7\n",
      "testF['Horizontal_Distance_To_Roadways']=testF['Horizontal_Distance_To_Roadways'].apply(math.sqrt)*a/12\n",
      "testF['Horizontal_Distance_To_Fire_Points']=(testF['Horizontal_Distance_To_Fire_Points']+1).apply(math.sqrt)*a/12\n",
      "testF['Vertical_Distance_To_Hydrology']=testF['Vertical_Distance_To_Hydrology'].apply(\n",
      "                                            math.fabs).apply(math.sqrt)*testF['Vertical_Distance_To_Hydrology'].apply(\n",
      "                                                lambda x:math.copysign(1,x))*a/4\n",
      "testF['Slope']=testF['Slope'].apply(math.radians).apply(math.sin)*5\n",
      "testF['Hillshade_9am']=testF['Hillshade_9am']*a/64\n",
      "testF['Hillshade_Noon']=testF['Hillshade_Noon']*a/64\n",
      "testF['Hillshade_3pm']=testF['Hillshade_3pm']*a/64\n",
      "testF['Soil_Type5']=testF['Soil_Type5']*1.5*b\n",
      "testF['Soil_Type8']=testF['Soil_Type8']*2.5*b\n",
      "testF['Soil_Type9']=testF['Soil_Type9']*2.5*b\n",
      "testF['Soil_Type12']=testF['Soil_Type12']*1.3*b\n",
      "testF['Soil_Type14']=testF['Soil_Type14']*1.5*b\n",
      "testF['Soil_Type16']=testF['Soil_Type16']*1.5*b\n",
      "testF['Soil_Type18']=testF['Soil_Type18']*1.8*b\n",
      "testF['Soil_Type19']=testF['Soil_Type19']*1.8*b\n",
      "testF['Soil_Type20']=testF['Soil_Type20']*1.5*b\n",
      "testF['Soil_Type21']=testF['Soil_Type21']*2*b\n",
      "testF['Soil_Type25']=testF['Soil_Type25']*2.5*b\n",
      "testF['Soil_Type26']=testF['Soil_Type26']*1.8*b\n",
      "testF['Soil_Type27']=testF['Soil_Type27']*2*b\n",
      "testF['Soil_Type28']=testF['Soil_Type28']*2.5*b\n",
      "testF['Soil_Type34']=testF['Soil_Type34']*1.8*b\n",
      "testF['Soil_Type35']=testF['Soil_Type35']*1.5*b\n",
      "testF['Soil_Type36']=testF['Soil_Type36']*2.5*b\n",
      "testF['Soil_Type37']=testF['Soil_Type37']*1.8*b\n",
      "\n",
      "submission1=clf.predict(testF.values)"
     ],
     "language": "python",
     "metadata": {},
     "outputs": [],
     "prompt_number": 23
    },
    {
     "cell_type": "code",
     "collapsed": false,
     "input": [
      "pd.DataFrame(submission1).to_csv('forest cover/submission15.csv')"
     ],
     "language": "python",
     "metadata": {},
     "outputs": [],
     "prompt_number": 24
    },
    {
     "cell_type": "code",
     "collapsed": false,
     "input": [
      "import random as rn\n",
      "df=trainF.copy()\n",
      "df['random'] = 1\n",
      "df['random'] = df['random'].apply(lambda x: x*rn.random())\n",
      "df.sort('random',inplace=True)\n",
      "df.drop('random',1,inplace=True)\n",
      "\n",
      "trCV1_x = df.drop('Cover_Type', 1).head(10500).values\n",
      "trCV1_y = df['Cover_Type'].head(10500).values\n",
      "CV1_x = df.drop('Cover_Type', 1).tail(4620).values\n",
      "CV1_y = df['Cover_Type'].tail(4620).values\n",
      "\n",
      "df.sort(inplace=True)\n",
      "df['random']=1\n",
      "df['random']=df['random'].apply(lambda x: x*rn.random())\n",
      "df.sort('random',inplace=True)\n",
      "df.drop('random',1,inplace=True)\n",
      "\n",
      "trCV2_x=df.drop('Cover_Type', 1).head(10500).values\n",
      "trCV2_y=df['Cover_Type'].head(10500).values\n",
      "CV2_x = df.drop('Cover_Type', 1).tail(4620).values\n",
      "CV2_y = df['Cover_Type'].tail(4620).values"
     ],
     "language": "python",
     "metadata": {},
     "outputs": [],
     "prompt_number": 56
    },
    {
     "cell_type": "code",
     "collapsed": false,
     "input": [
      "crossvalidation=svm.SVC(C=3,gamma=1)\n",
      "crossvalidation.fit(trCV1_x,trCV1_y)\n",
      "array = crossvalidation.predict(CV1_x)-CV1_y\n",
      "count(array)/4620"
     ],
     "language": "python",
     "metadata": {},
     "outputs": [
      {
       "metadata": {},
       "output_type": "pyout",
       "prompt_number": 57,
       "text": [
        "0.801948051948052"
       ]
      }
     ],
     "prompt_number": 57
    },
    {
     "cell_type": "code",
     "collapsed": false,
     "input": [
      "crossvalidation=svm.SVC(C=2,gamma=1)\n",
      "crossvalidation.fit(trCV1_x,trCV1_y)\n",
      "array = crossvalidation.predict(CV1_x)-CV1_y\n",
      "count(array)/4620"
     ],
     "language": "python",
     "metadata": {},
     "outputs": [
      {
       "metadata": {},
       "output_type": "pyout",
       "prompt_number": 58,
       "text": [
        "0.8047619047619048"
       ]
      }
     ],
     "prompt_number": 58
    },
    {
     "cell_type": "code",
     "collapsed": false,
     "input": [
      "crossvalidation=svm.SVC(C=1.7,gamma=1)\n",
      "crossvalidation.fit(trCV1_x,trCV1_y)\n",
      "array = crossvalidation.predict(CV1_x)-CV1_y\n",
      "count(array)/4620"
     ],
     "language": "python",
     "metadata": {},
     "outputs": [
      {
       "metadata": {},
       "output_type": "pyout",
       "prompt_number": 59,
       "text": [
        "0.804978354978355"
       ]
      }
     ],
     "prompt_number": 59
    },
    {
     "cell_type": "code",
     "collapsed": false,
     "input": [
      "crossvalidation=svm.SVC(C=2.5,gamma=1)\n",
      "crossvalidation.fit(trCV1_x,trCV1_y)\n",
      "array = crossvalidation.predict(CV1_x)-CV1_y\n",
      "count(array)/4620"
     ],
     "language": "python",
     "metadata": {},
     "outputs": [
      {
       "metadata": {},
       "output_type": "pyout",
       "prompt_number": 60,
       "text": [
        "0.8021645021645022"
       ]
      }
     ],
     "prompt_number": 60
    },
    {
     "cell_type": "code",
     "collapsed": false,
     "input": [
      "crossvalidation=svm.SVC(C=,gamma=1)\n",
      "crossvalidation.fit(trCV1_x,trCV1_y)\n",
      "array = crossvalidation.predict(CV1_x)-CV1_y\n",
      "count(array)/4620"
     ],
     "language": "python",
     "metadata": {},
     "outputs": [
      {
       "metadata": {},
       "output_type": "pyout",
       "prompt_number": 22,
       "text": [
        "0.8502164502164502"
       ]
      }
     ],
     "prompt_number": 22
    },
    {
     "cell_type": "code",
     "collapsed": false,
     "input": [
      "crossvalidation=svm.SVC(C=0.3,gamma=1)\n",
      "crossvalidation.fit(trCV2_x,trCV2_y)\n",
      "array = crossvalidation.predict(CV2_x)-CV2_y\n",
      "count(array)/4260"
     ],
     "language": "python",
     "metadata": {},
     "outputs": [
      {
       "metadata": {},
       "output_type": "pyout",
       "prompt_number": 374,
       "text": [
        "0.7943661971830986"
       ]
      }
     ],
     "prompt_number": 374
    },
    {
     "cell_type": "code",
     "collapsed": false,
     "input": [
      "crossvalidation=svm.SVC(C=1,gamma=1)\n",
      "crossvalidation.fit(trCV2_x,trCV2_y)\n",
      "array = crossvalidation.predict(CV2_x)-CV2_y\n",
      "count(array)/4260"
     ],
     "language": "python",
     "metadata": {},
     "outputs": [
      {
       "metadata": {},
       "output_type": "pyout",
       "prompt_number": 375,
       "text": [
        "0.8901408450704226"
       ]
      }
     ],
     "prompt_number": 375
    },
    {
     "cell_type": "code",
     "collapsed": false,
     "input": [
      "crossvalidation=svm.SVC(C=1.5,gamma=1)\n",
      "crossvalidation.fit(trCV2_x,trCV2_y)\n",
      "array = crossvalidation.predict(CV2_x)-CV2_y\n",
      "count(array)/4260"
     ],
     "language": "python",
     "metadata": {},
     "outputs": [
      {
       "metadata": {},
       "output_type": "pyout",
       "prompt_number": 376,
       "text": [
        "0.8948356807511737"
       ]
      }
     ],
     "prompt_number": 376
    },
    {
     "cell_type": "code",
     "collapsed": false,
     "input": [
      "crossvalidation=svm.SVC(C=2,gamma=1)\n",
      "crossvalidation.fit(trCV2_x,trCV2_y)\n",
      "array = crossvalidation.predict(CV2_x)-CV2_y\n",
      "count(array)/4260"
     ],
     "language": "python",
     "metadata": {},
     "outputs": [
      {
       "metadata": {},
       "output_type": "pyout",
       "prompt_number": 18,
       "text": [
        "0.8887323943661972"
       ]
      }
     ],
     "prompt_number": 18
    },
    {
     "cell_type": "code",
     "collapsed": false,
     "input": [
      "crossvalidation=svm.SVC(C=2.2,gamma=1)\n",
      "crossvalidation.fit(trCV2_x,trCV2_y)\n",
      "array = crossvalidation.predict(CV2_x)-CV2_y\n",
      "count(array)/4620"
     ],
     "language": "python",
     "metadata": {},
     "outputs": [
      {
       "metadata": {},
       "output_type": "pyout",
       "prompt_number": 367,
       "text": [
        "0.825974025974026"
       ]
      }
     ],
     "prompt_number": 367
    },
    {
     "cell_type": "code",
     "collapsed": false,
     "input": [
      "import matplotlib.pyplot as p \n",
      "p.plot(range(20), range(20))"
     ],
     "language": "python",
     "metadata": {},
     "outputs": [
      {
       "metadata": {},
       "output_type": "pyout",
       "prompt_number": 19,
       "text": [
        "[<matplotlib.lines.Line2D at 0x995e5f8>]"
       ]
      }
     ],
     "prompt_number": 19
    },
    {
     "cell_type": "code",
     "collapsed": false,
     "input": [
      "%pylab"
     ],
     "language": "python",
     "metadata": {},
     "outputs": [
      {
       "output_type": "stream",
       "stream": "stdout",
       "text": [
        "Using matplotlib backend: Qt4Agg\n",
        "Populating the interactive namespace from numpy and matplotlib\n"
       ]
      }
     ],
     "prompt_number": 8
    },
    {
     "cell_type": "code",
     "collapsed": false,
     "input": [
      "import matplotlib\n",
      "matplotlib.rcParams['backend']"
     ],
     "language": "python",
     "metadata": {},
     "outputs": [
      {
       "metadata": {},
       "output_type": "pyout",
       "prompt_number": 17,
       "text": [
        "'Qt4Agg'"
       ]
      }
     ],
     "prompt_number": 17
    }
   ],
   "metadata": {}
  }
 ]
}