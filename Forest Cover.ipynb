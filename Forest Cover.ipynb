{
 "metadata": {
  "name": "",
  "signature": "sha256:fa49e197bff77a8ec306e7959ae676409ba2465011ab6ed51871f6366f74a789"
 },
 "nbformat": 3,
 "nbformat_minor": 0,
 "worksheets": [
  {
   "cells": [
    {
     "cell_type": "code",
     "collapsed": false,
     "input": [
      "import pandas as pd\n",
      "import math\n",
      "import numpy as np\n",
      "from sklearn import svm"
     ],
     "language": "python",
     "metadata": {},
     "outputs": [],
     "prompt_number": 1
    },
    {
     "cell_type": "code",
     "collapsed": false,
     "input": [
      "trainF=pd.read_csv('forest cover/train.csv').set_index('Id')\n",
      "trainF['Horizontal_Distance_To_Hydrology']=trainF['Horizontal_Distance_To_Hydrology'].apply(math.sqrt)\n",
      "trainF['Horizontal_Distance_To_Roadways']=trainF['Horizontal_Distance_To_Roadways'].apply(math.sqrt)\n",
      "trainF['Horizontal_Distance_To_Fire_Points']=(trainF['Horizontal_Distance_To_Fire_Points']+1).apply(math.sqrt)\n",
      "trainF['Vertical_Distance_To_Hydrology']=trainF['Vertical_Distance_To_Hydrology'].apply(\n",
      "                                            math.fabs).apply(math.sqrt)*trainF['Vertical_Distance_To_Hydrology'].apply(\n",
      "                                                lambda x:math.copysign(1,x))\n",
      "trainF['Slope']=trainF['Slope'].apply(math.radians).apply(math.sin)\n",
      "trainF['Hillshade_9am']=(255-trainF['Hillshade_9am']).apply(math.sqrt)\n",
      "trainF['Hillshade_3pm']=(255-trainF['Hillshade_3pm']).apply(math.sqrt)"
     ],
     "language": "python",
     "metadata": {},
     "outputs": [],
     "prompt_number": 5
    },
    {
     "cell_type": "code",
     "collapsed": false,
     "input": [
      "trainF.std()\n"
     ],
     "language": "python",
     "metadata": {},
     "outputs": [
      {
       "metadata": {},
       "output_type": "pyout",
       "prompt_number": 4,
       "text": [
        "Elevation                             417.678187\n",
        "Aspect                                110.085801\n",
        "Slope                                   0.138543\n",
        "Horizontal_Distance_To_Hydrology        7.370912\n",
        "Vertical_Distance_To_Hydrology          4.767796\n",
        "Horizontal_Distance_To_Roadways        15.363047\n",
        "Hillshade_9am                           2.375687\n",
        "Hillshade_Noon                         22.801966\n",
        "Hillshade_3pm                           2.170412\n",
        "Horizontal_Distance_To_Fire_Points     13.243057\n",
        "Wilderness_Area1                        0.425810\n",
        "Wilderness_Area2                        0.178649\n",
        "Wilderness_Area3                        0.493560\n",
        "Wilderness_Area4                        0.462176\n",
        "Soil_Type1                              0.151424\n",
        "Soil_Type2                              0.198768\n",
        "Soil_Type3                              0.244091\n",
        "Soil_Type4                              0.229454\n",
        "Soil_Type5                              0.103896\n",
        "Soil_Type6                              0.202840\n",
        "Soil_Type7                              0.000000\n",
        "Soil_Type8                              0.008133\n",
        "Soil_Type9                              0.025710\n",
        "Soil_Type10                             0.348719\n",
        "Soil_Type11                             0.161656\n",
        "Soil_Type12                             0.121609\n",
        "Soil_Type13                             0.174621\n",
        "Soil_Type14                             0.105133\n",
        "Soil_Type15                             0.000000\n",
        "Soil_Type16                             0.086506\n",
        "Soil_Type17                             0.197080\n",
        "Soil_Type18                             0.062871\n",
        "Soil_Type19                             0.055075\n",
        "Soil_Type20                             0.095442\n",
        "Soil_Type21                             0.032514\n",
        "Soil_Type22                             0.149326\n",
        "Soil_Type23                             0.218089\n",
        "Soil_Type24                             0.129265\n",
        "Soil_Type25                             0.008133\n",
        "Soil_Type26                             0.059657\n",
        "Soil_Type27                             0.031482\n",
        "Soil_Type28                             0.024391\n",
        "Soil_Type29                             0.279461\n",
        "Soil_Type30                             0.213667\n",
        "Soil_Type31                             0.146550\n",
        "Soil_Type32                             0.208699\n",
        "Soil_Type33                             0.197696\n",
        "Soil_Type34                             0.038118\n",
        "Soil_Type35                             0.081859\n",
        "Soil_Type36                             0.025710\n",
        "Soil_Type37                             0.047368\n",
        "Soil_Type38                             0.214086\n",
        "Soil_Type39                             0.203880\n",
        "Soil_Type40                             0.171574\n",
        "Cover_Type                              2.000066\n",
        "Length: 55, dtype: float64"
       ]
      }
     ],
     "prompt_number": 4
    },
    {
     "cell_type": "code",
     "collapsed": false,
     "input": [
      "trainF=pd.read_csv('forest cover/train.csv').set_index('Id')\n",
      "\n",
      "a=1.0\n",
      "b=1.0\n",
      "trainF['Aspect'] /= 100\n",
      "trainF['Elevation']/= 400\n",
      "trainF['Horizontal_Distance_To_Hydrology']=trainF['Horizontal_Distance_To_Hydrology'].apply(math.sqrt)*a/7\n",
      "trainF['Horizontal_Distance_To_Roadways']=trainF['Horizontal_Distance_To_Roadways'].apply(math.sqrt)*a/12\n",
      "trainF['Horizontal_Distance_To_Fire_Points']=(trainF['Horizontal_Distance_To_Fire_Points']+1).apply(math.sqrt)*a/12\n",
      "trainF['Vertical_Distance_To_Hydrology']=trainF['Vertical_Distance_To_Hydrology'].apply(\n",
      "                                            math.fabs).apply(math.sqrt)*trainF['Vertical_Distance_To_Hydrology'].apply(\n",
      "                                                lambda x:math.copysign(1,x))*a/4\n",
      "trainF['Slope']=trainF['Slope'].apply(math.radians).apply(math.sin)*5\n",
      "trainF['Hillshade_9am']=trainF['Hillshade_9am']*a/64\n",
      "trainF['Hillshade_Noon']=trainF['Hillshade_Noon']*a/64\n",
      "trainF['Hillshade_3pm']=trainF['Hillshade_3pm']*a/64\n",
      "trainF['Soil_Type5']=trainF['Soil_Type5']*1.5*b\n",
      "trainF['Soil_Type8']=trainF['Soil_Type8']*2.5*b\n",
      "trainF['Soil_Type9']=trainF['Soil_Type9']*2.5*b\n",
      "trainF['Soil_Type12']=trainF['Soil_Type12']*1.3*b\n",
      "trainF['Soil_Type14']=trainF['Soil_Type14']*1.5*b\n",
      "trainF['Soil_Type16']=trainF['Soil_Type16']*1.5*b\n",
      "trainF['Soil_Type18']=trainF['Soil_Type18']*1.8*b\n",
      "trainF['Soil_Type19']=trainF['Soil_Type19']*1.8*b\n",
      "trainF['Soil_Type20']=trainF['Soil_Type20']*1.5*b\n",
      "trainF['Soil_Type21']=trainF['Soil_Type21']*2*b\n",
      "trainF['Soil_Type25']=trainF['Soil_Type25']*2.5*b\n",
      "trainF['Soil_Type26']=trainF['Soil_Type26']*1.8*b\n",
      "trainF['Soil_Type27']=trainF['Soil_Type27']*2*b\n",
      "trainF['Soil_Type28']=trainF['Soil_Type28']*2.5*b\n",
      "trainF['Soil_Type34']=trainF['Soil_Type34']*1.8*b\n",
      "trainF['Soil_Type35']=trainF['Soil_Type35']*1.5*b\n",
      "trainF['Soil_Type36']=trainF['Soil_Type36']*2.5*b\n",
      "trainF['Soil_Type37']=trainF['Soil_Type37']*1.8*b"
     ],
     "language": "python",
     "metadata": {},
     "outputs": [],
     "prompt_number": 6
    },
    {
     "cell_type": "code",
     "collapsed": false,
     "input": [
      "cvariables=['Aspect','Elevation','Horizontal_Distance_To_Hydrology','Horizontal_Distance_To_Roadways',\n",
      "        'Horizontal_Distance_To_Fire_Points','Vertical_Distance_To_Hydrology','Slope','Hillshade_9am',\n",
      "        'Hillshade_Noon','Hillshade_3pm']\n",
      "wildvars=['Wilderness_Area1','Wilderness_Area2','Wilderness_Area3','Wilderness_Area4']\n",
      "for c in trainF.drop(cvariables+['Cover_Type'],1).columns.tolist():\n",
      "    if trainF[c].mean()>0:   \n",
      "        trainF[c] *= math.sqrt(-math.log(trainF[c].mean()))/2\n",
      "        if c not in wildvars:\n",
      "            trainF[c]/=1.25\n",
      "for c in cvariables:\n",
      "        trainF[c] /= (trainF[c].std())"
     ],
     "language": "python",
     "metadata": {},
     "outputs": [],
     "prompt_number": 27
    },
    {
     "cell_type": "code",
     "collapsed": false,
     "input": [
      "y= trainF['Cover_Type'].values\n",
      "x= trainF.drop('Cover_Type',1).values"
     ],
     "language": "python",
     "metadata": {},
     "outputs": [],
     "prompt_number": 7
    },
    {
     "cell_type": "code",
     "collapsed": false,
     "input": [
      "clf=svm.SVC(C=3,gamma=1)\n",
      "clf.fit(x,y)"
     ],
     "language": "python",
     "metadata": {},
     "outputs": [
      {
       "metadata": {},
       "output_type": "pyout",
       "prompt_number": 29,
       "text": [
        "SVC(C=2.5, cache_size=200, class_weight=None, coef0=0.0, degree=3, gamma=1,\n",
        "  kernel='rbf', max_iter=-1, probability=False, random_state=None,\n",
        "  shrinking=True, tol=0.001, verbose=False)"
       ]
      }
     ]
    },
    {
     "cell_type": "code",
     "collapsed": false,
     "input": [
      "test=clf.predict(x[:2000])\n",
      "array=test[:2000]-y[:2000]\n",
      "count(array)"
     ],
     "language": "python",
     "metadata": {},
     "outputs": [
      {
       "metadata": {},
       "output_type": "pyout",
       "prompt_number": 24,
       "text": [
        "1972"
       ]
      }
     ],
     "prompt_number": 24
    },
    {
     "cell_type": "code",
     "collapsed": false,
     "input": [
      "testF=pd.read_csv('forest cover/test.csv').set_index('Id')\n",
      "testF['Horizontal_Distance_To_Hydrology']=testF['Horizontal_Distance_To_Hydrology'].apply(math.sqrt)\n",
      "testF['Horizontal_Distance_To_Roadways']=testF['Horizontal_Distance_To_Roadways'].apply(math.sqrt)\n",
      "testF['Horizontal_Distance_To_Fire_Points']=(testF['Horizontal_Distance_To_Fire_Points']+1).apply(math.sqrt)\n",
      "testF['Vertical_Distance_To_Hydrology']=testF['Vertical_Distance_To_Hydrology'].apply(\n",
      "                                            math.fabs).apply(math.sqrt)*testF['Vertical_Distance_To_Hydrology'].apply(\n",
      "                                                lambda x:math.copysign(1,x))\n",
      "testF['Slope']=testF['Slope'].apply(math.radians).apply(math.sin)\n",
      "testF['Hillshade_9am']=(255-testF['Hillshade_9am']).apply(math.sqrt)\n",
      "testF['Hillshade_3pm']=(255-testF['Hillshade_3pm']).apply(math.sqrt)\n",
      "trainF=pd.read_csv('forest cover/train.csv').set_index('Id')\n",
      "trainF['Horizontal_Distance_To_Hydrology']=trainF['Horizontal_Distance_To_Hydrology'].apply(math.sqrt)\n",
      "trainF['Horizontal_Distance_To_Roadways']=trainF['Horizontal_Distance_To_Roadways'].apply(math.sqrt)\n",
      "trainF['Horizontal_Distance_To_Fire_Points']=(trainF['Horizontal_Distance_To_Fire_Points']+1).apply(math.sqrt)\n",
      "trainF['Vertical_Distance_To_Hydrology']=trainF['Vertical_Distance_To_Hydrology'].apply(\n",
      "                                            math.fabs).apply(math.sqrt)*trainF['Vertical_Distance_To_Hydrology'].apply(\n",
      "                                                lambda x:math.copysign(1,x))\n",
      "trainF['Slope']=trainF['Slope'].apply(math.radians).apply(math.sin)\n",
      "trainF['Hillshade_9am']=(255-trainF['Hillshade_9am']).apply(math.sqrt)\n",
      "trainF['Hillshade_3pm']=(255-trainF['Hillshade_3pm']).apply(math.sqrt)\n",
      "\n",
      "for c in testF.drop(cvariables,1).columns.tolist():\n",
      "    if testF[c].mean()>0:   \n",
      "        testF[c]*=math.sqrt(-math.log(testF[c].mean()))/1.5\n",
      "        if c not in wildvars:\n",
      "            testF[c]/=1.5\n",
      "for c in cvariables:\n",
      "        testF[c]=testF[c]/(trainF[c].std())\n",
      "submission=clf.predict(testF.values)"
     ],
     "language": "python",
     "metadata": {},
     "outputs": []
    },
    {
     "cell_type": "code",
     "collapsed": false,
     "input": [
      "pd.DataFrame(submission).to_csv('forest cover/submission14.csv')"
     ],
     "language": "python",
     "metadata": {},
     "outputs": []
    },
    {
     "cell_type": "code",
     "collapsed": false,
     "input": [
      "def count(a):\n",
      "    c=0\n",
      "    for i in a:\n",
      "        if i==0:\n",
      "            c+=1\n",
      "    return c"
     ],
     "language": "python",
     "metadata": {},
     "outputs": [],
     "prompt_number": 12
    },
    {
     "cell_type": "code",
     "collapsed": false,
     "input": [
      "clf=svm.SVC(C=2,gamma=1)\n",
      "clf.fit(x,y)\n",
      "\n",
      "a=1.0\n",
      "b=1.0\n",
      "testF=pd.read_csv('forest cover/test.csv').set_index('Id')\n",
      "testF['Aspect'] /= 100\n",
      "testF['Elevation']/= 400\n",
      "testF['Horizontal_Distance_To_Hydrology']=testF['Horizontal_Distance_To_Hydrology'].apply(math.sqrt)*a/7\n",
      "testF['Horizontal_Distance_To_Roadways']=testF['Horizontal_Distance_To_Roadways'].apply(math.sqrt)*a/12\n",
      "testF['Horizontal_Distance_To_Fire_Points']=(testF['Horizontal_Distance_To_Fire_Points']+1).apply(math.sqrt)*a/12\n",
      "testF['Vertical_Distance_To_Hydrology']=testF['Vertical_Distance_To_Hydrology'].apply(\n",
      "                                            math.fabs).apply(math.sqrt)*testF['Vertical_Distance_To_Hydrology'].apply(\n",
      "                                                lambda x:math.copysign(1,x))*a/4\n",
      "testF['Slope']=testF['Slope'].apply(math.radians).apply(math.sin)*5\n",
      "testF['Hillshade_9am']=testF['Hillshade_9am']*a/64\n",
      "testF['Hillshade_Noon']=testF['Hillshade_Noon']*a/64\n",
      "testF['Hillshade_3pm']=testF['Hillshade_3pm']*a/64\n",
      "testF['Soil_Type5']=testF['Soil_Type5']*1.5*b\n",
      "testF['Soil_Type8']=testF['Soil_Type8']*2.5*b\n",
      "testF['Soil_Type9']=testF['Soil_Type9']*2.5*b\n",
      "testF['Soil_Type12']=testF['Soil_Type12']*1.3*b\n",
      "testF['Soil_Type14']=testF['Soil_Type14']*1.5*b\n",
      "testF['Soil_Type16']=testF['Soil_Type16']*1.5*b\n",
      "testF['Soil_Type18']=testF['Soil_Type18']*1.8*b\n",
      "testF['Soil_Type19']=testF['Soil_Type19']*1.8*b\n",
      "testF['Soil_Type20']=testF['Soil_Type20']*1.5*b\n",
      "testF['Soil_Type21']=testF['Soil_Type21']*2*b\n",
      "testF['Soil_Type25']=testF['Soil_Type25']*2.5*b\n",
      "testF['Soil_Type26']=testF['Soil_Type26']*1.8*b\n",
      "testF['Soil_Type27']=testF['Soil_Type27']*2*b\n",
      "testF['Soil_Type28']=testF['Soil_Type28']*2.5*b\n",
      "testF['Soil_Type34']=testF['Soil_Type34']*1.8*b\n",
      "testF['Soil_Type35']=testF['Soil_Type35']*1.5*b\n",
      "testF['Soil_Type36']=testF['Soil_Type36']*2.5*b\n",
      "testF['Soil_Type37']=testF['Soil_Type37']*1.8*b\n",
      "\n",
      "submission1=clf.predict(testF.values)"
     ],
     "language": "python",
     "metadata": {},
     "outputs": [],
     "prompt_number": 23
    },
    {
     "cell_type": "code",
     "collapsed": false,
     "input": [
      "pd.DataFrame(submission1).to_csv('forest cover/submission15.csv')"
     ],
     "language": "python",
     "metadata": {},
     "outputs": [],
     "prompt_number": 24
    },
    {
     "cell_type": "code",
     "collapsed": false,
     "input": [
      "import random as rn\n",
      "df=trainF.copy()\n",
      "df['random'] = 1\n",
      "df['random'] = df['random'].apply(lambda x: x*rn.random())\n",
      "df.sort('random',inplace=True)\n",
      "df.drop('random',1,inplace=True)\n",
      "\n",
      "trCV1_x = df.drop('Cover_Type', 1).head(10500).values\n",
      "trCV1_y = df['Cover_Type'].head(10500).values\n",
      "CV1_x = df.drop('Cover_Type', 1).tail(4620).values\n",
      "CV1_y = df['Cover_Type'].tail(4620).values\n",
      "\n",
      "df.sort(inplace=True)\n",
      "df['random']=1\n",
      "df['random']=df['random'].apply(lambda x: x*rn.random())\n",
      "df.sort('random',inplace=True)\n",
      "df.drop('random',1,inplace=True)\n",
      "\n",
      "trCV2_x=df.drop('Cover_Type', 1).head(10500).values\n",
      "trCV2_y=df['Cover_Type'].head(10500).values\n",
      "CV2_x = df.drop('Cover_Type', 1).tail(4620).values\n",
      "CV2_y = df['Cover_Type'].tail(4620).values"
     ],
     "language": "python",
     "metadata": {},
     "outputs": [],
     "prompt_number": 10
    },
    {
     "cell_type": "code",
     "collapsed": false,
     "input": [
      "crossvalidation=svm.SVC(C=3,gamma=1)\n",
      "crossvalidation.fit(trCV1_x,trCV1_y)\n",
      "array = crossvalidation.predict(CV1_x)-CV1_y\n",
      "count(array)/4620"
     ],
     "language": "python",
     "metadata": {},
     "outputs": [
      {
       "metadata": {},
       "output_type": "pyout",
       "prompt_number": 13,
       "text": [
        "0.8515151515151516"
       ]
      }
     ],
     "prompt_number": 13
    },
    {
     "cell_type": "code",
     "collapsed": false,
     "input": [
      "crossvalidation=svm.SVC(C=1.9,gamma=1)\n",
      "crossvalidation.fit(trCV1_x,trCV1_y)\n",
      "array = crossvalidation.predict(CV1_x)-CV1_y\n",
      "count(array)/4620"
     ],
     "language": "python",
     "metadata": {},
     "outputs": [
      {
       "metadata": {},
       "output_type": "pyout",
       "prompt_number": 21,
       "text": [
        "0.8512987012987013"
       ]
      }
     ],
     "prompt_number": 21
    },
    {
     "cell_type": "code",
     "collapsed": false,
     "input": [
      "crossvalidation=svm.SVC(C=1.7,gamma=1)\n",
      "crossvalidation.fit(trCV1_x,trCV1_y)\n",
      "array = crossvalidation.predict(CV1_x)-CV1_y\n",
      "count(array)/4620"
     ],
     "language": "python",
     "metadata": {},
     "outputs": [
      {
       "metadata": {},
       "output_type": "pyout",
       "prompt_number": 18,
       "text": [
        "0.8519480519480519"
       ]
      }
     ],
     "prompt_number": 18
    },
    {
     "cell_type": "code",
     "collapsed": false,
     "input": [
      "crossvalidation=svm.SVC(C=2,gamma=1)\n",
      "crossvalidation.fit(trCV1_x,trCV1_y)\n",
      "array = crossvalidation.predict(CV1_x)-CV1_y\n",
      "count(array)/4620"
     ],
     "language": "python",
     "metadata": {},
     "outputs": [
      {
       "metadata": {},
       "output_type": "pyout",
       "prompt_number": 15,
       "text": [
        "0.8517316017316018"
       ]
      }
     ],
     "prompt_number": 15
    },
    {
     "cell_type": "code",
     "collapsed": false,
     "input": [
      "crossvalidation=svm.SVC(C=1.8,gamma=1)\n",
      "crossvalidation.fit(trCV1_x,trCV1_y)\n",
      "array = crossvalidation.predict(CV1_x)-CV1_y\n",
      "count(array)/4620"
     ],
     "language": "python",
     "metadata": {},
     "outputs": [
      {
       "metadata": {},
       "output_type": "pyout",
       "prompt_number": 22,
       "text": [
        "0.8502164502164502"
       ]
      }
     ],
     "prompt_number": 22
    },
    {
     "cell_type": "code",
     "collapsed": false,
     "input": [
      "crossvalidation=svm.SVC(C=0.3,gamma=1)\n",
      "crossvalidation.fit(trCV2_x,trCV2_y)\n",
      "array = crossvalidation.predict(CV2_x)-CV2_y\n",
      "count(array)/4260"
     ],
     "language": "python",
     "metadata": {},
     "outputs": [
      {
       "metadata": {},
       "output_type": "pyout",
       "prompt_number": 374,
       "text": [
        "0.7943661971830986"
       ]
      }
     ],
     "prompt_number": 374
    },
    {
     "cell_type": "code",
     "collapsed": false,
     "input": [
      "crossvalidation=svm.SVC(C=1,gamma=1)\n",
      "crossvalidation.fit(trCV2_x,trCV2_y)\n",
      "array = crossvalidation.predict(CV2_x)-CV2_y\n",
      "count(array)/4260"
     ],
     "language": "python",
     "metadata": {},
     "outputs": [
      {
       "metadata": {},
       "output_type": "pyout",
       "prompt_number": 375,
       "text": [
        "0.8901408450704226"
       ]
      }
     ],
     "prompt_number": 375
    },
    {
     "cell_type": "code",
     "collapsed": false,
     "input": [
      "crossvalidation=svm.SVC(C=1.5,gamma=1)\n",
      "crossvalidation.fit(trCV2_x,trCV2_y)\n",
      "array = crossvalidation.predict(CV2_x)-CV2_y\n",
      "count(array)/4260"
     ],
     "language": "python",
     "metadata": {},
     "outputs": [
      {
       "metadata": {},
       "output_type": "pyout",
       "prompt_number": 376,
       "text": [
        "0.8948356807511737"
       ]
      }
     ],
     "prompt_number": 376
    },
    {
     "cell_type": "code",
     "collapsed": false,
     "input": [
      "crossvalidation=svm.SVC(C=2,gamma=1)\n",
      "crossvalidation.fit(trCV2_x,trCV2_y)\n",
      "array = crossvalidation.predict(CV2_x)-CV2_y\n",
      "count(array)/4260"
     ],
     "language": "python",
     "metadata": {},
     "outputs": [
      {
       "metadata": {},
       "output_type": "pyout",
       "prompt_number": 18,
       "text": [
        "0.8887323943661972"
       ]
      }
     ],
     "prompt_number": 18
    },
    {
     "cell_type": "code",
     "collapsed": false,
     "input": [
      "crossvalidation=svm.SVC(C=2.2,gamma=1)\n",
      "crossvalidation.fit(trCV2_x,trCV2_y)\n",
      "array = crossvalidation.predict(CV2_x)-CV2_y\n",
      "count(array)/4620"
     ],
     "language": "python",
     "metadata": {},
     "outputs": [
      {
       "metadata": {},
       "output_type": "pyout",
       "prompt_number": 367,
       "text": [
        "0.825974025974026"
       ]
      }
     ],
     "prompt_number": 367
    }
   ],
   "metadata": {}
  }
 ]
}